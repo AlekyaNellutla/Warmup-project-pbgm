{
  "nbformat": 4,
  "nbformat_minor": 0,
  "metadata": {
    "colab": {
      "name": "TASK3.ipynb",
      "provenance": []
    },
    "kernelspec": {
      "name": "python3",
      "display_name": "Python 3"
    },
    "language_info": {
      "name": "python"
    }
  },
  "cells": [
    {
      "cell_type": "code",
      "metadata": {
        "colab": {
          "base_uri": "https://localhost:8080/"
        },
        "id": "d1mq58uFYWOi",
        "outputId": "d6f8b42d-3065-4616-9385-24e9662bf13b"
      },
      "source": [
        "pip install pyspark"
      ],
      "execution_count": 4,
      "outputs": [
        {
          "output_type": "stream",
          "name": "stdout",
          "text": [
            "Collecting pyspark\n",
            "  Downloading pyspark-3.1.2.tar.gz (212.4 MB)\n",
            "\u001b[K     |████████████████████████████████| 212.4 MB 63 kB/s \n",
            "\u001b[?25hCollecting py4j==0.10.9\n",
            "  Downloading py4j-0.10.9-py2.py3-none-any.whl (198 kB)\n",
            "\u001b[K     |████████████████████████████████| 198 kB 50.0 MB/s \n",
            "\u001b[?25hBuilding wheels for collected packages: pyspark\n",
            "  Building wheel for pyspark (setup.py) ... \u001b[?25l\u001b[?25hdone\n",
            "  Created wheel for pyspark: filename=pyspark-3.1.2-py2.py3-none-any.whl size=212880768 sha256=86674e5b3f0faec445a17328f4a2501ef4c4c09361f855eb30e96073c7b77b1d\n",
            "  Stored in directory: /root/.cache/pip/wheels/a5/0a/c1/9561f6fecb759579a7d863dcd846daaa95f598744e71b02c77\n",
            "Successfully built pyspark\n",
            "Installing collected packages: py4j, pyspark\n",
            "Successfully installed py4j-0.10.9 pyspark-3.1.2\n"
          ]
        }
      ]
    },
    {
      "cell_type": "code",
      "metadata": {
        "id": "6W0mIwSDHV6z"
      },
      "source": [
        "def clean(word):\n",
        "    word = word.encode(\"ascii\", \"ignore\").decode()\n",
        "    regex = re.compile('[%s]' % re.escape(string.punctuation))\n",
        "    word = regex.sub('', word)\n",
        "    word = word.strip('\"\\`”’“')\n",
        "    return word"
      ],
      "execution_count": 28,
      "outputs": []
    },
    {
      "cell_type": "code",
      "metadata": {
        "id": "doMpiI_aHa6K"
      },
      "source": [
        "def parseUrl(line):\n",
        "    global category\n",
        "    category = ['/'.join(line.split()[1].split('/')[6:][:-1])]"
      ],
      "execution_count": 29,
      "outputs": []
    },
    {
      "cell_type": "code",
      "metadata": {
        "id": "eaWi6t45HfYh"
      },
      "source": [
        "def removeStopWords(tokens, stop_words):\n",
        "    filteredWords = []\n",
        "    for w in tokens:\n",
        "        cleanedWord = clean(w.lower())\n",
        "        if cleanedWord not in stop_words:\n",
        "            filteredWords.append(cleanedWord)\n",
        "    return [''.join(category) + '#' + w for w in filteredWords if w not in '']"
      ],
      "execution_count": 33,
      "outputs": []
    },
    {
      "cell_type": "code",
      "metadata": {
        "id": "H2QxBGiLHlab"
      },
      "source": [
        "def parseLine(line, stop_words):\n",
        "    if 'URL: http://www.nytimes.com/' in line:\n",
        "        parseUrl(line)\n",
        "        return []\n",
        "    return removeStopWords(word_tokenize(line), stop_words)"
      ],
      "execution_count": 31,
      "outputs": []
    },
    {
      "cell_type": "code",
      "metadata": {
        "colab": {
          "base_uri": "https://localhost:8080/"
        },
        "id": "5F-dKxmQHpaL",
        "outputId": "622dbf9f-0c98-4527-89ea-e54153f6e4b1"
      },
      "source": [
        "stop_words = set(stopwords.words('english')) \n",
        "text_file = sc.textFile(\"nytimes_news_articles.txt\")\n",
        "counts = text_file.flatMap(lambda line:parseLine(line, stop_words))\n",
        "counts1=counts.map(lambda word: (word, 1))\n",
        "counts2=counts1.reduceByKey(lambda a, b: a + b, 1)\n",
        "counts3=counts2.map(lambda x: (x[1],x[0])).sortByKey(0, 1)\n",
        "counts4=counts3.map(lambda x: (x[1],x[0]))\n",
        "print(counts4.take(10))"
      ],
      "execution_count": 32,
      "outputs": [
        {
          "output_type": "stream",
          "name": "stdout",
          "text": [
            "[('us/politics#trump', 5583), ('us/politics#clinton', 2895), ('nyregion#new', 2313), ('us/politics#mrs', 2036), ('us/politics#would', 2031), ('nyregion#city', 1759), ('us/politics#campaign', 1709), ('us/politics#republican', 1676), ('nyregion#ms', 1508), ('business#percent', 1483)]\n"
          ]
        }
      ]
    }
  ]
}